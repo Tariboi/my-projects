{
 "cells": [
  {
   "cell_type": "markdown",
   "metadata": {},
   "source": [
    "# COMPUTATIONAL PHYSICS"
   ]
  },
  {
   "cell_type": "markdown",
   "metadata": {},
   "source": [
    "Computational physics is the study of scientific problems using computational methods; it combines computer science, physics and applied mathematics to develop scientific solutions to complex problems. \n",
    "\n",
    "Computational physics complements the areas of theory and experimentation in traditional scientific investigation.  It has been successfully applied to areas such as molecular modeling, electronic circuit design, protein folding, atmospheric science, aerodynamic design and testing, and material science – to name just a few.\n",
    "\n",
    "In a nutshell: Computational physics will allow you to tackle realistic problems in practically every field of science and engineering.\n",
    "\n",
    "\n",
    "What does a computational physicist do?\n",
    "A computational physicist applies numerical analysis to solve problems or support theories in physics. In this career, you use knowledge from numerous disciplines, including physics, statistics, mathematics, and computer science, to test a theory.\n",
    "\n",
    "\n"
   ]
  },
  {
   "cell_type": "code",
   "execution_count": null,
   "metadata": {},
   "outputs": [],
   "source": []
  },
  {
   "cell_type": "markdown",
   "metadata": {},
   "source": [
    "# UNDER DAMPED SYSTEM"
   ]
  },
  {
   "cell_type": "markdown",
   "metadata": {},
   "source": [
    "### An underdamped vibrating system has a 5.3Kg block, a spring (k=230N/m) and a dashpot.The ratioof two consecutive amplitudes is 1:0:0:7. The block is given an initial displacement of 6cm an an initial velocity of 1.2m/s. Determine the response and plot displacement for four cycles."
   ]
  },
  {
   "cell_type": "markdown",
   "metadata": {
    "collapsed": true
   },
   "source": [
    "##solution \n",
    "\\begin{equation}\n",
    "\\omega_{n} = \\sqrt\\frac{k}{m}\n",
    "\\frac{230N/m}{5.3Kg}=6.5876\\frac{rad}{s}\n",
    "\\end{equation}\n",
    "assuming\n",
    "\\begin{equation}\n",
    "\\omega_{d} =\\omega_{n}\n",
    "\\end{equation}\n",
    "\n",
    "Then\n",
    "\\begin{equation}\n",
    "\\ln\\frac{X}{X_{i+1}}= \\zeta 2\\pi\n",
    "\\end{equation}\n",
    "\n",
    "\\begin{equation}\n",
    "\\zeta=\\frac{1}{2\\pi}ln\\frac{1.0}{0.7}=0.0568\n",
    "\\end{equation}\n",
    "\n",
    "from the definition of damping ratio \n",
    "\\begin{equation}\n",
    "\\zeta=c\\2m\\omega_{n}.\n",
    "c=2m\\omega_{n}\\zeta=2(5.3Kg)(6.5876rad/s)(0.0568)=3.9639\n",
    "\\end{equation}\n",
    "\n",
    "this gives the following damped natural frequency:\n",
    "\\begin{equation}\n",
    "\\omega_{d}=\\omega_{n}\\sqrt 1-\\zeta^{2}=6.5876\\sqrt 1-0.0568^{2}=6.5770\n",
    "\\end{equation}\n",
    "\n",
    "\\begin{equation}\n",
    "X(t)=e^{-\\zeta2m\\omega_{n}}(X_{o} cos \\omega_{d}t + \n",
    "\\frac{v_{o}+x_{o}\\zeta\\omega_{n}}{\\omega_{d}}sin\\omega_{d}t)\n",
    "\\end{equation}\n",
    "\n",
    "\\begin{equation}\n",
    "X(t)=e^{-0.05689(6.5876)t}(0.06cos(6.577t)+\\frac{1.2+0.06(0.0568)(6.5876)}{6.577}+sin(6.577t))\n",
    "\\end{equation}\n",
    "\n",
    "ANSWER:\n",
    "\\begin{equation}\n",
    "x(t)=e^{-0.3742t}(0.06cos(6.577t)+0.1859sin(6.577t))\n",
    "\\end{equation}\n",
    "\n",
    "THE DAMPED PERIOD WILL BE:\n",
    "\\begin{equation}\n",
    "t_{d}=\\frac{2\\pi}{\\omega_{n}}=\\frac{2\\pi}{6.577}=0.9553s\n",
    "\\end{equation}\n",
    "\n",
    "the first four cycles will occur in 4(0.9553)=3.8213s\n",
    "the plot is shown below"
   ]
  },
  {
   "cell_type": "code",
   "execution_count": 3,
   "metadata": {},
   "outputs": [
    {
     "data": {
      "text/plain": [
       "Text(0.5, 1.0, 'under damped oscillation')"
      ]
     },
     "execution_count": 3,
     "metadata": {},
     "output_type": "execute_result"
    },
    {
     "data": {
      "text/plain": [
       "<Figure size 432x288 with 0 Axes>"
      ]
     },
     "metadata": {},
     "output_type": "display_data"
    },
    {
     "data": {
      "image/png": "[encoded data removed]",
      "text/plain": [
       "<Figure size 720x360 with 1 Axes>"
      ]
     },
     "metadata": {
      "needs_background": "light"
     },
     "output_type": "display_data"
    }
   ],
   "source": [
    "import numpy as np\n",
    "import matplotlib.pyplot as plt\n",
    "import math\n",
    "A=[]\n",
    "x=np.linspace(0,20,1000)\n",
    "for t in x:\n",
    "    a=(math.exp(-0.3742*t))*((0.06*math.cos(6.577*t))+(0.1859*math.sin(6.577*t)))\n",
    "    A.append(a)\n",
    "plt.figure(1)    \n",
    "plt.figure(figsize=(10,5))\n",
    "plt.ylim(-0.2,0.2)\n",
    "plt.plot(x,A,color=\"orange\")\n",
    "plt.grid(3)\n",
    "plt.title(\"under damped oscillation\",color=\"green\")"
   ]
  },
  {
   "cell_type": "markdown",
   "metadata": {},
   "source": [
    "# LINEAR MOTION\n",
    "A particle moving with an initial velocity of 15.0m/s at a time 2.50s caculate the distance travled "
   ]
  },
  {
   "cell_type": "markdown",
   "metadata": {},
   "source": [
    "\\begin{equation}\n",
    "\\Delta x = 1/2 (vi+vf) \\Delta t\n",
    "\\end{equation}"
   ]
  },
  {
   "cell_type": "code",
   "execution_count": 4,
   "metadata": {},
   "outputs": [
    {
     "name": "stdout",
     "output_type": "stream",
     "text": [
      "The Distance Travelled is:  18.75\n"
     ]
    }
   ],
   "source": [
    "import numpy as np\n",
    "vi= 15.0\n",
    "vf= 0.00\n",
    "deltaT=2.50\n",
    "deltaX=0.5*(vi+vf)*deltaT\n",
    "print(\"The Distance Travelled is: \",deltaX)"
   ]
  },
  {
   "cell_type": "markdown",
   "metadata": {},
   "source": [
    "# LINEAR MOTION 2\n",
    "plot a velocity/time time graph of a vehicle moving with a velocity:50,20,15,12,8,6, \n",
    "at a time:12:08:00,12:08:02,12:08:04,12:08:06,12:08:08,12:08:10"
   ]
  },
  {
   "cell_type": "code",
   "execution_count": null,
   "metadata": {},
   "outputs": [],
   "source": [
    "import matplotlib.pyplot as plt\n",
    "import numpy as np\n",
    "\n",
    "data = {\"velocity\" :[50,20,15,12,8,6], \n",
    "        \"time\" : [\"12:08:00\", \"12:08:02\", \"12:08:04\", \"12:08:06\", \"12:08:08\", \"12:08:10\"]}\n",
    "\n",
    "plt.figure(1)\n",
    "plt.plot(data[\"time\"] ,data[\"velocity\"],color=\"red\")\n",
    "plt.title('velocity vs time')\n",
    "plt.grid(3)\n",
    "plt.plot"
   ]
  },
  {
   "cell_type": "markdown",
   "metadata": {},
   "source": [
    "# benefits"
   ]
  },
  {
   "cell_type": "markdown",
   "metadata": {},
   "source": [
    "\n",
    "They can be used to analyze and visualize data, communicate results, run experiment and monitor equipment.\n",
    "\n",
    "Computational tools and techniques are used ubiquitously in physics, are integral to how physics is currently practiced, \n",
    "and provide excellent preparation for careers. Knowledge and skills in programming, simulations, and modeling are needed\n",
    "by physics graduates in a variety of careers. Adding these skills to the curriculum addresses a common weakness that many\n",
    "physics graduates report in their undergraduate programs, improves and accelerates students’ ability to engage in research \n",
    "and solve research-like problems, and may assist in the recruiting of students. Computational skills allow students to \n",
    "answer questions not solvable through analytic techniques, including practical and applied problems, and are transferable\n",
    "across disciplines. The use of computational tools can deepen students’ understanding of fundamental concepts \n",
    "and principles.\n",
    "\n",
    "It has enabled physicists to understand complex problems more completely compared to using theoretical and experimental methods alone.\n",
    "\n",
    "it has proven effective in both teaching and learning physics and through simulation and visualization has helped bridge the gap between academia and inustry.\n"
   ]
  },
  {
   "cell_type": "markdown",
   "metadata": {},
   "source": [
    "# Where do computational physicists work?\n",
    "Many jobs related specifically to computational physics are in academia, research institutions, such as CERN or \n",
    "aerospace labs like the Jet Propulsion Laboratory, or with governmental departments, such as the Department of Energy."
   ]
  },
  {
   "cell_type": "code",
   "execution_count": null,
   "metadata": {},
   "outputs": [],
   "source": []
  },
  {
   "cell_type": "code",
   "execution_count": null,
   "metadata": {},
   "outputs": [],
   "source": []
  },
  {
   "cell_type": "code",
   "execution_count": null,
   "metadata": {},
   "outputs": [],
   "source": []
  },
  {
   "cell_type": "code",
   "execution_count": null,
   "metadata": {},
   "outputs": [],
   "source": []
  },
  {
   "cell_type": "code",
   "execution_count": null,
   "metadata": {},
   "outputs": [],
   "source": []
  },
  {
   "cell_type": "code",
   "execution_count": null,
   "metadata": {},
   "outputs": [],
   "source": []
  },
  {
   "cell_type": "code",
   "execution_count": null,
   "metadata": {},
   "outputs": [],
   "source": []
  },
  {
   "cell_type": "code",
   "execution_count": null,
   "metadata": {},
   "outputs": [],
   "source": []
  },
  {
   "cell_type": "code",
   "execution_count": null,
   "metadata": {},
   "outputs": [],
   "source": []
  },
  {
   "cell_type": "code",
   "execution_count": null,
   "metadata": {},
   "outputs": [],
   "source": []
  },
  {
   "cell_type": "code",
   "execution_count": null,
   "metadata": {},
   "outputs": [],
   "source": []
  },
  {
   "cell_type": "code",
   "execution_count": null,
   "metadata": {},
   "outputs": [],
   "source": []
  },
  {
   "cell_type": "code",
   "execution_count": null,
   "metadata": {},
   "outputs": [],
   "source": []
  },
  {
   "cell_type": "code",
   "execution_count": null,
   "metadata": {},
   "outputs": [],
   "source": []
  },
  {
   "cell_type": "code",
   "execution_count": null,
   "metadata": {},
   "outputs": [],
   "source": [
    "\n"
   ]
  },
  {
   "cell_type": "code",
   "execution_count": null,
   "metadata": {},
   "outputs": [],
   "source": []
  },
  {
   "cell_type": "code",
   "execution_count": null,
   "metadata": {},
   "outputs": [],
   "source": []
  },
  {
   "cell_type": "code",
   "execution_count": null,
   "metadata": {},
   "outputs": [],
   "source": []
  },
  {
   "cell_type": "code",
   "execution_count": null,
   "metadata": {},
   "outputs": [],
   "source": []
  },
  {
   "cell_type": "code",
   "execution_count": null,
   "metadata": {},
   "outputs": [],
   "source": []
  },
  {
   "cell_type": "code",
   "execution_count": null,
   "metadata": {},
   "outputs": [],
   "source": []
  },
  {
   "cell_type": "code",
   "execution_count": null,
   "metadata": {},
   "outputs": [],
   "source": []
  },
  {
   "cell_type": "code",
   "execution_count": null,
   "metadata": {},
   "outputs": [],
   "source": []
  },
  {
   "cell_type": "code",
   "execution_count": null,
   "metadata": {},
   "outputs": [],
   "source": []
  }
 ],
 "metadata": {
  "kernelspec": {
   "display_name": "Python 3 (ipykernel)",
   "language": "python",
   "name": "python3"
  },
  "language_info": {
   "codemirror_mode": {
    "name": "ipython",
    "version": 3
   },
   "file_extension": ".py",
   "mimetype": "text/x-python",
   "name": "python",
   "nbconvert_exporter": "python",
   "pygments_lexer": "ipython3",
   "version": "3.7.11"
  }
 },
 "nbformat": 4,
 "nbformat_minor": 2
}
